{
  "nbformat": 4,
  "nbformat_minor": 0,
  "metadata": {
    "colab": {
      "provenance": [],
      "authorship_tag": "ABX9TyN1/JJWdpHJBT+dkp0VbifB",
      "include_colab_link": true
    },
    "kernelspec": {
      "name": "python3",
      "display_name": "Python 3"
    },
    "language_info": {
      "name": "python"
    }
  },
  "cells": [
    {
      "cell_type": "markdown",
      "metadata": {
        "id": "view-in-github",
        "colab_type": "text"
      },
      "source": [
        "<a href=\"https://colab.research.google.com/github/slng09/advance-task22/blob/main/schoolcleanfile.ipynb\" target=\"_parent\"><img src=\"https://colab.research.google.com/assets/colab-badge.svg\" alt=\"Open In Colab\"/></a>"
      ]
    },
    {
      "cell_type": "code",
      "execution_count": 1,
      "metadata": {
        "id": "P-x7JtyTgk1l"
      },
      "outputs": [],
      "source": [
        "import pandas as pd\n",
        "import numpy as np\n",
        "import pandas as pd\n",
        "from scipy import stats\n",
        "from matplotlib import pyplot as plt\n",
        "import seaborn as sns\n",
        "from geopy.geocoders import Nominatim\n",
        "from geopy.extra.rate_limiter import RateLimiter\n",
        "\n",
        "#--- suppress warnings ---\n",
        "import warnings\n",
        "warnings.filterwarnings(\"ignore\")"
      ]
    },
    {
      "cell_type": "code",
      "source": [
        "# Read CSV\n",
        "from google.colab import files\n",
        "uploaded = files.upload()\n",
        "import io\n",
        "df = pd.read_csv(io.BytesIO(uploaded[\"Victoria.csv\"]),sep=',')\n",
        "df.head()"
      ],
      "metadata": {
        "colab": {
          "base_uri": "https://localhost:8080/",
          "height": 518
        },
        "id": "jlr3fjWhh5YI",
        "outputId": "986436a8-316d-4ff7-c230-5beac2b0b16b"
      },
      "execution_count": 71,
      "outputs": [
        {
          "output_type": "display_data",
          "data": {
            "text/plain": [
              "<IPython.core.display.HTML object>"
            ],
            "text/html": [
              "\n",
              "     <input type=\"file\" id=\"files-2231e748-d015-4f91-9863-8e873101b2fb\" name=\"files[]\" multiple disabled\n",
              "        style=\"border:none\" />\n",
              "     <output id=\"result-2231e748-d015-4f91-9863-8e873101b2fb\">\n",
              "      Upload widget is only available when the cell has been executed in the\n",
              "      current browser session. Please rerun this cell to enable.\n",
              "      </output>\n",
              "      <script>// Copyright 2017 Google LLC\n",
              "//\n",
              "// Licensed under the Apache License, Version 2.0 (the \"License\");\n",
              "// you may not use this file except in compliance with the License.\n",
              "// You may obtain a copy of the License at\n",
              "//\n",
              "//      http://www.apache.org/licenses/LICENSE-2.0\n",
              "//\n",
              "// Unless required by applicable law or agreed to in writing, software\n",
              "// distributed under the License is distributed on an \"AS IS\" BASIS,\n",
              "// WITHOUT WARRANTIES OR CONDITIONS OF ANY KIND, either express or implied.\n",
              "// See the License for the specific language governing permissions and\n",
              "// limitations under the License.\n",
              "\n",
              "/**\n",
              " * @fileoverview Helpers for google.colab Python module.\n",
              " */\n",
              "(function(scope) {\n",
              "function span(text, styleAttributes = {}) {\n",
              "  const element = document.createElement('span');\n",
              "  element.textContent = text;\n",
              "  for (const key of Object.keys(styleAttributes)) {\n",
              "    element.style[key] = styleAttributes[key];\n",
              "  }\n",
              "  return element;\n",
              "}\n",
              "\n",
              "// Max number of bytes which will be uploaded at a time.\n",
              "const MAX_PAYLOAD_SIZE = 100 * 1024;\n",
              "\n",
              "function _uploadFiles(inputId, outputId) {\n",
              "  const steps = uploadFilesStep(inputId, outputId);\n",
              "  const outputElement = document.getElementById(outputId);\n",
              "  // Cache steps on the outputElement to make it available for the next call\n",
              "  // to uploadFilesContinue from Python.\n",
              "  outputElement.steps = steps;\n",
              "\n",
              "  return _uploadFilesContinue(outputId);\n",
              "}\n",
              "\n",
              "// This is roughly an async generator (not supported in the browser yet),\n",
              "// where there are multiple asynchronous steps and the Python side is going\n",
              "// to poll for completion of each step.\n",
              "// This uses a Promise to block the python side on completion of each step,\n",
              "// then passes the result of the previous step as the input to the next step.\n",
              "function _uploadFilesContinue(outputId) {\n",
              "  const outputElement = document.getElementById(outputId);\n",
              "  const steps = outputElement.steps;\n",
              "\n",
              "  const next = steps.next(outputElement.lastPromiseValue);\n",
              "  return Promise.resolve(next.value.promise).then((value) => {\n",
              "    // Cache the last promise value to make it available to the next\n",
              "    // step of the generator.\n",
              "    outputElement.lastPromiseValue = value;\n",
              "    return next.value.response;\n",
              "  });\n",
              "}\n",
              "\n",
              "/**\n",
              " * Generator function which is called between each async step of the upload\n",
              " * process.\n",
              " * @param {string} inputId Element ID of the input file picker element.\n",
              " * @param {string} outputId Element ID of the output display.\n",
              " * @return {!Iterable<!Object>} Iterable of next steps.\n",
              " */\n",
              "function* uploadFilesStep(inputId, outputId) {\n",
              "  const inputElement = document.getElementById(inputId);\n",
              "  inputElement.disabled = false;\n",
              "\n",
              "  const outputElement = document.getElementById(outputId);\n",
              "  outputElement.innerHTML = '';\n",
              "\n",
              "  const pickedPromise = new Promise((resolve) => {\n",
              "    inputElement.addEventListener('change', (e) => {\n",
              "      resolve(e.target.files);\n",
              "    });\n",
              "  });\n",
              "\n",
              "  const cancel = document.createElement('button');\n",
              "  inputElement.parentElement.appendChild(cancel);\n",
              "  cancel.textContent = 'Cancel upload';\n",
              "  const cancelPromise = new Promise((resolve) => {\n",
              "    cancel.onclick = () => {\n",
              "      resolve(null);\n",
              "    };\n",
              "  });\n",
              "\n",
              "  // Wait for the user to pick the files.\n",
              "  const files = yield {\n",
              "    promise: Promise.race([pickedPromise, cancelPromise]),\n",
              "    response: {\n",
              "      action: 'starting',\n",
              "    }\n",
              "  };\n",
              "\n",
              "  cancel.remove();\n",
              "\n",
              "  // Disable the input element since further picks are not allowed.\n",
              "  inputElement.disabled = true;\n",
              "\n",
              "  if (!files) {\n",
              "    return {\n",
              "      response: {\n",
              "        action: 'complete',\n",
              "      }\n",
              "    };\n",
              "  }\n",
              "\n",
              "  for (const file of files) {\n",
              "    const li = document.createElement('li');\n",
              "    li.append(span(file.name, {fontWeight: 'bold'}));\n",
              "    li.append(span(\n",
              "        `(${file.type || 'n/a'}) - ${file.size} bytes, ` +\n",
              "        `last modified: ${\n",
              "            file.lastModifiedDate ? file.lastModifiedDate.toLocaleDateString() :\n",
              "                                    'n/a'} - `));\n",
              "    const percent = span('0% done');\n",
              "    li.appendChild(percent);\n",
              "\n",
              "    outputElement.appendChild(li);\n",
              "\n",
              "    const fileDataPromise = new Promise((resolve) => {\n",
              "      const reader = new FileReader();\n",
              "      reader.onload = (e) => {\n",
              "        resolve(e.target.result);\n",
              "      };\n",
              "      reader.readAsArrayBuffer(file);\n",
              "    });\n",
              "    // Wait for the data to be ready.\n",
              "    let fileData = yield {\n",
              "      promise: fileDataPromise,\n",
              "      response: {\n",
              "        action: 'continue',\n",
              "      }\n",
              "    };\n",
              "\n",
              "    // Use a chunked sending to avoid message size limits. See b/62115660.\n",
              "    let position = 0;\n",
              "    do {\n",
              "      const length = Math.min(fileData.byteLength - position, MAX_PAYLOAD_SIZE);\n",
              "      const chunk = new Uint8Array(fileData, position, length);\n",
              "      position += length;\n",
              "\n",
              "      const base64 = btoa(String.fromCharCode.apply(null, chunk));\n",
              "      yield {\n",
              "        response: {\n",
              "          action: 'append',\n",
              "          file: file.name,\n",
              "          data: base64,\n",
              "        },\n",
              "      };\n",
              "\n",
              "      let percentDone = fileData.byteLength === 0 ?\n",
              "          100 :\n",
              "          Math.round((position / fileData.byteLength) * 100);\n",
              "      percent.textContent = `${percentDone}% done`;\n",
              "\n",
              "    } while (position < fileData.byteLength);\n",
              "  }\n",
              "\n",
              "  // All done.\n",
              "  yield {\n",
              "    response: {\n",
              "      action: 'complete',\n",
              "    }\n",
              "  };\n",
              "}\n",
              "\n",
              "scope.google = scope.google || {};\n",
              "scope.google.colab = scope.google.colab || {};\n",
              "scope.google.colab._files = {\n",
              "  _uploadFiles,\n",
              "  _uploadFilesContinue,\n",
              "};\n",
              "})(self);\n",
              "</script> "
            ]
          },
          "metadata": {}
        },
        {
          "output_type": "stream",
          "name": "stdout",
          "text": [
            "Saving Victoria.csv to Victoria (6).csv\n"
          ]
        },
        {
          "output_type": "execute_result",
          "data": {
            "text/plain": [
              "   School_No                             School_Name School_Type  \\\n",
              "0          1                 Alberton Primary School     Primary   \n",
              "1          3  Allansford and District Primary School     Primary   \n",
              "2          4                    Avoca Primary School     Primary   \n",
              "3          8                   Avenel Primary School     Primary   \n",
              "4         12               Warrandyte Primary School     Primary   \n",
              "\n",
              "       Address_Line_1 Address_Line_2 Address_Town Address_State  \\\n",
              "0   21 Thomson Street            NaN     Alberton           VIC   \n",
              "1        Frank Street            NaN   Allansford           VIC   \n",
              "2  118 Barnett Street            NaN        Avoca           VIC   \n",
              "3  40 Anderson Street            NaN       Avenel           VIC   \n",
              "4  5-11 Forbes Street            NaN   Warrandyte           VIC   \n",
              "\n",
              "   Address_Postcode Postal_Address_Line_1 Postal_Address_Line_2  \\\n",
              "0              3971     21 Thomson Street                   NaN   \n",
              "1              3277          Frank Street                   NaN   \n",
              "2              3467            P O Box 12                   NaN   \n",
              "3              3664    40 Anderson Street                   NaN   \n",
              "4              3113    5-11 Forbes Street                   NaN   \n",
              "\n",
              "   Postal_Postcode Full_Phone_No  LGA_ID         LGA_Name           X  \\\n",
              "0             3971  03 5183 2412     681   Wellington (S)  146.666601   \n",
              "1             3277  03 5565 1382     673  Warrnambool (C)  142.590393   \n",
              "2             3467  03 5465 3176     599     Pyrenees (S)  143.475649   \n",
              "3             3664  03 5796 2264     643  Strathbogie (S)  145.234722   \n",
              "4             3113  03 9844 3537     421   Manningham (C)  145.213980   \n",
              "\n",
              "           Y Education_Sector  Entity_Type  \n",
              "0 -38.617713       Government            1  \n",
              "1 -38.386281       Government            1  \n",
              "2 -37.084502       Government            1  \n",
              "3 -36.901368       Government            1  \n",
              "4 -37.742675       Government            1  "
            ],
            "text/html": [
              "\n",
              "  <div id=\"df-f7b90bcd-edf7-449c-a072-e6c6f93a55f6\">\n",
              "    <div class=\"colab-df-container\">\n",
              "      <div>\n",
              "<style scoped>\n",
              "    .dataframe tbody tr th:only-of-type {\n",
              "        vertical-align: middle;\n",
              "    }\n",
              "\n",
              "    .dataframe tbody tr th {\n",
              "        vertical-align: top;\n",
              "    }\n",
              "\n",
              "    .dataframe thead th {\n",
              "        text-align: right;\n",
              "    }\n",
              "</style>\n",
              "<table border=\"1\" class=\"dataframe\">\n",
              "  <thead>\n",
              "    <tr style=\"text-align: right;\">\n",
              "      <th></th>\n",
              "      <th>School_No</th>\n",
              "      <th>School_Name</th>\n",
              "      <th>School_Type</th>\n",
              "      <th>Address_Line_1</th>\n",
              "      <th>Address_Line_2</th>\n",
              "      <th>Address_Town</th>\n",
              "      <th>Address_State</th>\n",
              "      <th>Address_Postcode</th>\n",
              "      <th>Postal_Address_Line_1</th>\n",
              "      <th>Postal_Address_Line_2</th>\n",
              "      <th>Postal_Postcode</th>\n",
              "      <th>Full_Phone_No</th>\n",
              "      <th>LGA_ID</th>\n",
              "      <th>LGA_Name</th>\n",
              "      <th>X</th>\n",
              "      <th>Y</th>\n",
              "      <th>Education_Sector</th>\n",
              "      <th>Entity_Type</th>\n",
              "    </tr>\n",
              "  </thead>\n",
              "  <tbody>\n",
              "    <tr>\n",
              "      <th>0</th>\n",
              "      <td>1</td>\n",
              "      <td>Alberton Primary School</td>\n",
              "      <td>Primary</td>\n",
              "      <td>21 Thomson Street</td>\n",
              "      <td>NaN</td>\n",
              "      <td>Alberton</td>\n",
              "      <td>VIC</td>\n",
              "      <td>3971</td>\n",
              "      <td>21 Thomson Street</td>\n",
              "      <td>NaN</td>\n",
              "      <td>3971</td>\n",
              "      <td>03 5183 2412</td>\n",
              "      <td>681</td>\n",
              "      <td>Wellington (S)</td>\n",
              "      <td>146.666601</td>\n",
              "      <td>-38.617713</td>\n",
              "      <td>Government</td>\n",
              "      <td>1</td>\n",
              "    </tr>\n",
              "    <tr>\n",
              "      <th>1</th>\n",
              "      <td>3</td>\n",
              "      <td>Allansford and District Primary School</td>\n",
              "      <td>Primary</td>\n",
              "      <td>Frank Street</td>\n",
              "      <td>NaN</td>\n",
              "      <td>Allansford</td>\n",
              "      <td>VIC</td>\n",
              "      <td>3277</td>\n",
              "      <td>Frank Street</td>\n",
              "      <td>NaN</td>\n",
              "      <td>3277</td>\n",
              "      <td>03 5565 1382</td>\n",
              "      <td>673</td>\n",
              "      <td>Warrnambool (C)</td>\n",
              "      <td>142.590393</td>\n",
              "      <td>-38.386281</td>\n",
              "      <td>Government</td>\n",
              "      <td>1</td>\n",
              "    </tr>\n",
              "    <tr>\n",
              "      <th>2</th>\n",
              "      <td>4</td>\n",
              "      <td>Avoca Primary School</td>\n",
              "      <td>Primary</td>\n",
              "      <td>118 Barnett Street</td>\n",
              "      <td>NaN</td>\n",
              "      <td>Avoca</td>\n",
              "      <td>VIC</td>\n",
              "      <td>3467</td>\n",
              "      <td>P O Box 12</td>\n",
              "      <td>NaN</td>\n",
              "      <td>3467</td>\n",
              "      <td>03 5465 3176</td>\n",
              "      <td>599</td>\n",
              "      <td>Pyrenees (S)</td>\n",
              "      <td>143.475649</td>\n",
              "      <td>-37.084502</td>\n",
              "      <td>Government</td>\n",
              "      <td>1</td>\n",
              "    </tr>\n",
              "    <tr>\n",
              "      <th>3</th>\n",
              "      <td>8</td>\n",
              "      <td>Avenel Primary School</td>\n",
              "      <td>Primary</td>\n",
              "      <td>40 Anderson Street</td>\n",
              "      <td>NaN</td>\n",
              "      <td>Avenel</td>\n",
              "      <td>VIC</td>\n",
              "      <td>3664</td>\n",
              "      <td>40 Anderson Street</td>\n",
              "      <td>NaN</td>\n",
              "      <td>3664</td>\n",
              "      <td>03 5796 2264</td>\n",
              "      <td>643</td>\n",
              "      <td>Strathbogie (S)</td>\n",
              "      <td>145.234722</td>\n",
              "      <td>-36.901368</td>\n",
              "      <td>Government</td>\n",
              "      <td>1</td>\n",
              "    </tr>\n",
              "    <tr>\n",
              "      <th>4</th>\n",
              "      <td>12</td>\n",
              "      <td>Warrandyte Primary School</td>\n",
              "      <td>Primary</td>\n",
              "      <td>5-11 Forbes Street</td>\n",
              "      <td>NaN</td>\n",
              "      <td>Warrandyte</td>\n",
              "      <td>VIC</td>\n",
              "      <td>3113</td>\n",
              "      <td>5-11 Forbes Street</td>\n",
              "      <td>NaN</td>\n",
              "      <td>3113</td>\n",
              "      <td>03 9844 3537</td>\n",
              "      <td>421</td>\n",
              "      <td>Manningham (C)</td>\n",
              "      <td>145.213980</td>\n",
              "      <td>-37.742675</td>\n",
              "      <td>Government</td>\n",
              "      <td>1</td>\n",
              "    </tr>\n",
              "  </tbody>\n",
              "</table>\n",
              "</div>\n",
              "      <button class=\"colab-df-convert\" onclick=\"convertToInteractive('df-f7b90bcd-edf7-449c-a072-e6c6f93a55f6')\"\n",
              "              title=\"Convert this dataframe to an interactive table.\"\n",
              "              style=\"display:none;\">\n",
              "        \n",
              "  <svg xmlns=\"http://www.w3.org/2000/svg\" height=\"24px\"viewBox=\"0 0 24 24\"\n",
              "       width=\"24px\">\n",
              "    <path d=\"M0 0h24v24H0V0z\" fill=\"none\"/>\n",
              "    <path d=\"M18.56 5.44l.94 2.06.94-2.06 2.06-.94-2.06-.94-.94-2.06-.94 2.06-2.06.94zm-11 1L8.5 8.5l.94-2.06 2.06-.94-2.06-.94L8.5 2.5l-.94 2.06-2.06.94zm10 10l.94 2.06.94-2.06 2.06-.94-2.06-.94-.94-2.06-.94 2.06-2.06.94z\"/><path d=\"M17.41 7.96l-1.37-1.37c-.4-.4-.92-.59-1.43-.59-.52 0-1.04.2-1.43.59L10.3 9.45l-7.72 7.72c-.78.78-.78 2.05 0 2.83L4 21.41c.39.39.9.59 1.41.59.51 0 1.02-.2 1.41-.59l7.78-7.78 2.81-2.81c.8-.78.8-2.07 0-2.86zM5.41 20L4 18.59l7.72-7.72 1.47 1.35L5.41 20z\"/>\n",
              "  </svg>\n",
              "      </button>\n",
              "      \n",
              "  <style>\n",
              "    .colab-df-container {\n",
              "      display:flex;\n",
              "      flex-wrap:wrap;\n",
              "      gap: 12px;\n",
              "    }\n",
              "\n",
              "    .colab-df-convert {\n",
              "      background-color: #E8F0FE;\n",
              "      border: none;\n",
              "      border-radius: 50%;\n",
              "      cursor: pointer;\n",
              "      display: none;\n",
              "      fill: #1967D2;\n",
              "      height: 32px;\n",
              "      padding: 0 0 0 0;\n",
              "      width: 32px;\n",
              "    }\n",
              "\n",
              "    .colab-df-convert:hover {\n",
              "      background-color: #E2EBFA;\n",
              "      box-shadow: 0px 1px 2px rgba(60, 64, 67, 0.3), 0px 1px 3px 1px rgba(60, 64, 67, 0.15);\n",
              "      fill: #174EA6;\n",
              "    }\n",
              "\n",
              "    [theme=dark] .colab-df-convert {\n",
              "      background-color: #3B4455;\n",
              "      fill: #D2E3FC;\n",
              "    }\n",
              "\n",
              "    [theme=dark] .colab-df-convert:hover {\n",
              "      background-color: #434B5C;\n",
              "      box-shadow: 0px 1px 3px 1px rgba(0, 0, 0, 0.15);\n",
              "      filter: drop-shadow(0px 1px 2px rgba(0, 0, 0, 0.3));\n",
              "      fill: #FFFFFF;\n",
              "    }\n",
              "  </style>\n",
              "\n",
              "      <script>\n",
              "        const buttonEl =\n",
              "          document.querySelector('#df-f7b90bcd-edf7-449c-a072-e6c6f93a55f6 button.colab-df-convert');\n",
              "        buttonEl.style.display =\n",
              "          google.colab.kernel.accessAllowed ? 'block' : 'none';\n",
              "\n",
              "        async function convertToInteractive(key) {\n",
              "          const element = document.querySelector('#df-f7b90bcd-edf7-449c-a072-e6c6f93a55f6');\n",
              "          const dataTable =\n",
              "            await google.colab.kernel.invokeFunction('convertToInteractive',\n",
              "                                                     [key], {});\n",
              "          if (!dataTable) return;\n",
              "\n",
              "          const docLinkHtml = 'Like what you see? Visit the ' +\n",
              "            '<a target=\"_blank\" href=https://colab.research.google.com/notebooks/data_table.ipynb>data table notebook</a>'\n",
              "            + ' to learn more about interactive tables.';\n",
              "          element.innerHTML = '';\n",
              "          dataTable['output_type'] = 'display_data';\n",
              "          await google.colab.output.renderOutput(dataTable, element);\n",
              "          const docLink = document.createElement('div');\n",
              "          docLink.innerHTML = docLinkHtml;\n",
              "          element.appendChild(docLink);\n",
              "        }\n",
              "      </script>\n",
              "    </div>\n",
              "  </div>\n",
              "  "
            ]
          },
          "metadata": {},
          "execution_count": 71
        }
      ]
    },
    {
      "cell_type": "code",
      "source": [
        "df.isnull().sum()"
      ],
      "metadata": {
        "colab": {
          "base_uri": "https://localhost:8080/"
        },
        "id": "IhMfBD_sjaN1",
        "outputId": "eb04225d-b7c8-45c5-d129-e1ef6c75d04d"
      },
      "execution_count": 54,
      "outputs": [
        {
          "output_type": "execute_result",
          "data": {
            "text/plain": [
              "School_No                   0\n",
              "School_Name                 0\n",
              "School_Type                 0\n",
              "Address_Line_1              0\n",
              "Address_Line_2           2235\n",
              "Address_Town                0\n",
              "Address_State               0\n",
              "Address_Postcode            0\n",
              "Postal_Address_Line_1       0\n",
              "Postal_Address_Line_2    2235\n",
              "Postal_Postcode             0\n",
              "Full_Phone_No               2\n",
              "LGA_ID                      0\n",
              "LGA_Name                    0\n",
              "X                           0\n",
              "Y                           0\n",
              "Education_Sector            0\n",
              "Entity_Type                 0\n",
              "dtype: int64"
            ]
          },
          "metadata": {},
          "execution_count": 54
        }
      ]
    },
    {
      "cell_type": "code",
      "source": [
        "def clean_column_name(column_names):\n",
        "    clean_column_names = []\n",
        "    for c in column_names:\n",
        "        c = c.lower().replace(' ','_')\n",
        "        clean_column_names.append(c)\n",
        "    return clean_column_names    \n",
        "\n",
        "df.columns = clean_column_name(df.columns)"
      ],
      "metadata": {
        "id": "s_Bk_Y2lj0U6"
      },
      "execution_count": null,
      "outputs": []
    },
    {
      "cell_type": "code",
      "source": [
        "# Merge the null column and the text column into a single column\n",
        "df['Address'] = df['Address_Line_1'].fillna('') + df['Address_Line_2'].fillna('')\n",
        "df['Postal_Address'] = df['Postal_Address_Line_1'].fillna('') + df['Postal_Address_Line_2'].fillna('')\n",
        "df.Address"
      ],
      "metadata": {
        "colab": {
          "base_uri": "https://localhost:8080/"
        },
        "id": "0po4Rda713nM",
        "outputId": "223e8f26-73bc-45f5-dae4-b6f29c911d50"
      },
      "execution_count": 73,
      "outputs": [
        {
          "output_type": "execute_result",
          "data": {
            "text/plain": [
              "0             21 Thomson Street\n",
              "1                  Frank Street\n",
              "2            118 Barnett Street\n",
              "3            40 Anderson Street\n",
              "4            5-11 Forbes Street\n",
              "                 ...           \n",
              "2243          35 Sturdee Street\n",
              "2244    Level 1117 Capel Street\n",
              "2245     95-97 Brunswick Street\n",
              "2246        164 - 180 Kings Way\n",
              "2247          425 Riversdale Rd\n",
              "Name: Address, Length: 2248, dtype: object"
            ]
          },
          "metadata": {},
          "execution_count": 73
        }
      ]
    },
    {
      "cell_type": "code",
      "source": [
        "#change column names\n",
        "df = df.drop(['Address_Line_1','Address_Line_2','Postal_Address_Line_1', 'Postal_Address_Line_2', 'Postal_Postcode', 'Address', 'Postal_Address'],axis = 1)\n",
        "df.columns"
      ],
      "metadata": {
        "colab": {
          "base_uri": "https://localhost:8080/"
        },
        "id": "F5sEEUd9kOwC",
        "outputId": "a52b9f6d-ef44-44a8-900d-6c3c53a11c48"
      },
      "execution_count": 78,
      "outputs": [
        {
          "output_type": "execute_result",
          "data": {
            "text/plain": [
              "Index(['School_No', 'School_Name', 'School_Type', 'Address_Town',\n",
              "       'Address_State', 'Address_Postcode', 'Full_Phone_No', 'LGA_ID',\n",
              "       'LGA_Name', 'X', 'Y', 'Education_Sector', 'Entity_Type', 'sum_column'],\n",
              "      dtype='object')"
            ]
          },
          "metadata": {},
          "execution_count": 78
        }
      ]
    },
    {
      "cell_type": "code",
      "source": [
        "df.columns= ['School_No', 'School_Name', 'School_Type', 'Address_Town',\n",
        "       'Address_State', 'Address_Postcode', 'Full_Phone_No', 'LGA_ID',\n",
        "       'LGA_Name', 'Latitude', 'Longtitude', 'Education_Sector', 'Entity_Type', 'Address']\n",
        "df.columns"
      ],
      "metadata": {
        "colab": {
          "base_uri": "https://localhost:8080/"
        },
        "id": "mw2SRwnW-bQt",
        "outputId": "15ef004b-29ac-4c46-81ac-0ae95b024dd5"
      },
      "execution_count": 79,
      "outputs": [
        {
          "output_type": "execute_result",
          "data": {
            "text/plain": [
              "Index(['School_No', 'School_Name', 'School_Type', 'Address_Town',\n",
              "       'Address_State', 'Address_Postcode', 'Full_Phone_No', 'LGA_ID',\n",
              "       'LGA_Name', 'Latitude', 'Longtitude', 'Education_Sector', 'Entity_Type',\n",
              "       'Address'],\n",
              "      dtype='object')"
            ]
          },
          "metadata": {},
          "execution_count": 79
        }
      ]
    },
    {
      "cell_type": "code",
      "source": [
        "df.info()"
      ],
      "metadata": {
        "colab": {
          "base_uri": "https://localhost:8080/"
        },
        "id": "oj4DzH2CoRiG",
        "outputId": "84192418-b617-4b20-b967-fc3c82e2635e"
      },
      "execution_count": 46,
      "outputs": [
        {
          "output_type": "stream",
          "name": "stdout",
          "text": [
            "<class 'pandas.core.frame.DataFrame'>\n",
            "RangeIndex: 2248 entries, 0 to 2247\n",
            "Data columns (total 15 columns):\n",
            " #   Column            Non-Null Count  Dtype  \n",
            "---  ------            --------------  -----  \n",
            " 0   School_No         2248 non-null   int64  \n",
            " 1   School_Name       2248 non-null   object \n",
            " 2   School_Type       2248 non-null   object \n",
            " 3   Address_Town      2248 non-null   object \n",
            " 4   State             2248 non-null   object \n",
            " 5   Postcode          2248 non-null   int64  \n",
            " 6   Full_Phone_No     2246 non-null   object \n",
            " 7   LGA_ID            2248 non-null   int64  \n",
            " 8   LGA_Name          2248 non-null   object \n",
            " 9   Latitude          2248 non-null   float64\n",
            " 10  Longtitude        2248 non-null   float64\n",
            " 11  Education_Sector  2248 non-null   object \n",
            " 12  Entity_Type       2248 non-null   int64  \n",
            " 13  Address           2248 non-null   object \n",
            " 14  Postal_Address    2248 non-null   object \n",
            "dtypes: float64(2), int64(4), object(9)\n",
            "memory usage: 263.6+ KB\n"
          ]
        }
      ]
    },
    {
      "cell_type": "code",
      "source": [
        "duplicate = df[df.duplicated()]\n",
        "print(\"Duplicate Rows :\")\n",
        "duplicate"
      ],
      "metadata": {
        "colab": {
          "base_uri": "https://localhost:8080/",
          "height": 67
        },
        "id": "6mbHvjytKiog",
        "outputId": "466cec1d-a1a0-4f01-b330-2b7cc89db85b"
      },
      "execution_count": 59,
      "outputs": [
        {
          "output_type": "stream",
          "name": "stdout",
          "text": [
            "Duplicate Rows :\n"
          ]
        },
        {
          "output_type": "execute_result",
          "data": {
            "text/plain": [
              "Empty DataFrame\n",
              "Columns: [School_No, School_Name, School_Type, Suburb, State, Postcode, Full_Phone_No, LGA_ID, LGA_Name, Latitude, Longtitude, Education_Sector, Entity_Type, Address, Postal_Address]\n",
              "Index: []"
            ],
            "text/html": [
              "\n",
              "  <div id=\"df-91d918c3-0af2-4e6e-a9dd-82577aaaac27\">\n",
              "    <div class=\"colab-df-container\">\n",
              "      <div>\n",
              "<style scoped>\n",
              "    .dataframe tbody tr th:only-of-type {\n",
              "        vertical-align: middle;\n",
              "    }\n",
              "\n",
              "    .dataframe tbody tr th {\n",
              "        vertical-align: top;\n",
              "    }\n",
              "\n",
              "    .dataframe thead th {\n",
              "        text-align: right;\n",
              "    }\n",
              "</style>\n",
              "<table border=\"1\" class=\"dataframe\">\n",
              "  <thead>\n",
              "    <tr style=\"text-align: right;\">\n",
              "      <th></th>\n",
              "      <th>School_No</th>\n",
              "      <th>School_Name</th>\n",
              "      <th>School_Type</th>\n",
              "      <th>Suburb</th>\n",
              "      <th>State</th>\n",
              "      <th>Postcode</th>\n",
              "      <th>Full_Phone_No</th>\n",
              "      <th>LGA_ID</th>\n",
              "      <th>LGA_Name</th>\n",
              "      <th>Latitude</th>\n",
              "      <th>Longtitude</th>\n",
              "      <th>Education_Sector</th>\n",
              "      <th>Entity_Type</th>\n",
              "      <th>Address</th>\n",
              "      <th>Postal_Address</th>\n",
              "    </tr>\n",
              "  </thead>\n",
              "  <tbody>\n",
              "  </tbody>\n",
              "</table>\n",
              "</div>\n",
              "      <button class=\"colab-df-convert\" onclick=\"convertToInteractive('df-91d918c3-0af2-4e6e-a9dd-82577aaaac27')\"\n",
              "              title=\"Convert this dataframe to an interactive table.\"\n",
              "              style=\"display:none;\">\n",
              "        \n",
              "  <svg xmlns=\"http://www.w3.org/2000/svg\" height=\"24px\"viewBox=\"0 0 24 24\"\n",
              "       width=\"24px\">\n",
              "    <path d=\"M0 0h24v24H0V0z\" fill=\"none\"/>\n",
              "    <path d=\"M18.56 5.44l.94 2.06.94-2.06 2.06-.94-2.06-.94-.94-2.06-.94 2.06-2.06.94zm-11 1L8.5 8.5l.94-2.06 2.06-.94-2.06-.94L8.5 2.5l-.94 2.06-2.06.94zm10 10l.94 2.06.94-2.06 2.06-.94-2.06-.94-.94-2.06-.94 2.06-2.06.94z\"/><path d=\"M17.41 7.96l-1.37-1.37c-.4-.4-.92-.59-1.43-.59-.52 0-1.04.2-1.43.59L10.3 9.45l-7.72 7.72c-.78.78-.78 2.05 0 2.83L4 21.41c.39.39.9.59 1.41.59.51 0 1.02-.2 1.41-.59l7.78-7.78 2.81-2.81c.8-.78.8-2.07 0-2.86zM5.41 20L4 18.59l7.72-7.72 1.47 1.35L5.41 20z\"/>\n",
              "  </svg>\n",
              "      </button>\n",
              "      \n",
              "  <style>\n",
              "    .colab-df-container {\n",
              "      display:flex;\n",
              "      flex-wrap:wrap;\n",
              "      gap: 12px;\n",
              "    }\n",
              "\n",
              "    .colab-df-convert {\n",
              "      background-color: #E8F0FE;\n",
              "      border: none;\n",
              "      border-radius: 50%;\n",
              "      cursor: pointer;\n",
              "      display: none;\n",
              "      fill: #1967D2;\n",
              "      height: 32px;\n",
              "      padding: 0 0 0 0;\n",
              "      width: 32px;\n",
              "    }\n",
              "\n",
              "    .colab-df-convert:hover {\n",
              "      background-color: #E2EBFA;\n",
              "      box-shadow: 0px 1px 2px rgba(60, 64, 67, 0.3), 0px 1px 3px 1px rgba(60, 64, 67, 0.15);\n",
              "      fill: #174EA6;\n",
              "    }\n",
              "\n",
              "    [theme=dark] .colab-df-convert {\n",
              "      background-color: #3B4455;\n",
              "      fill: #D2E3FC;\n",
              "    }\n",
              "\n",
              "    [theme=dark] .colab-df-convert:hover {\n",
              "      background-color: #434B5C;\n",
              "      box-shadow: 0px 1px 3px 1px rgba(0, 0, 0, 0.15);\n",
              "      filter: drop-shadow(0px 1px 2px rgba(0, 0, 0, 0.3));\n",
              "      fill: #FFFFFF;\n",
              "    }\n",
              "  </style>\n",
              "\n",
              "      <script>\n",
              "        const buttonEl =\n",
              "          document.querySelector('#df-91d918c3-0af2-4e6e-a9dd-82577aaaac27 button.colab-df-convert');\n",
              "        buttonEl.style.display =\n",
              "          google.colab.kernel.accessAllowed ? 'block' : 'none';\n",
              "\n",
              "        async function convertToInteractive(key) {\n",
              "          const element = document.querySelector('#df-91d918c3-0af2-4e6e-a9dd-82577aaaac27');\n",
              "          const dataTable =\n",
              "            await google.colab.kernel.invokeFunction('convertToInteractive',\n",
              "                                                     [key], {});\n",
              "          if (!dataTable) return;\n",
              "\n",
              "          const docLinkHtml = 'Like what you see? Visit the ' +\n",
              "            '<a target=\"_blank\" href=https://colab.research.google.com/notebooks/data_table.ipynb>data table notebook</a>'\n",
              "            + ' to learn more about interactive tables.';\n",
              "          element.innerHTML = '';\n",
              "          dataTable['output_type'] = 'display_data';\n",
              "          await google.colab.output.renderOutput(dataTable, element);\n",
              "          const docLink = document.createElement('div');\n",
              "          docLink.innerHTML = docLinkHtml;\n",
              "          element.appendChild(docLink);\n",
              "        }\n",
              "      </script>\n",
              "    </div>\n",
              "  </div>\n",
              "  "
            ]
          },
          "metadata": {},
          "execution_count": 59
        }
      ]
    },
    {
      "cell_type": "code",
      "source": [
        "# Compare the two columns and drop duplicates\n",
        "#df['sum_column'] = df['Address'].map(str) +' '+ df['Postal_Address']\n",
        "\n",
        "# Remove duplicates from the sum column\n",
        "df['sum_column'] = df.apply(lambda x: x['Address'] +' '+ x['Postal_Address'] if x['Address'] != x['Postal_Address'] else x['Address'], axis=1)\n",
        "\n",
        "# Print the resulting dataframe\n",
        "df.sum_column"
      ],
      "metadata": {
        "colab": {
          "base_uri": "https://localhost:8080/"
        },
        "id": "mWmXzSLvIeMz",
        "outputId": "0c5d6217-b819-4012-fe70-7435740ad40e"
      },
      "execution_count": 76,
      "outputs": [
        {
          "output_type": "execute_result",
          "data": {
            "text/plain": [
              "0                   21 Thomson Street\n",
              "1                        Frank Street\n",
              "2       118 Barnett Street P O Box 12\n",
              "3                  40 Anderson Street\n",
              "4                  5-11 Forbes Street\n",
              "                    ...              \n",
              "2243     35 Sturdee Street PO Box 510\n",
              "2244          Level 1117 Capel Street\n",
              "2245           95-97 Brunswick Street\n",
              "2246              164 - 180 Kings Way\n",
              "2247                425 Riversdale Rd\n",
              "Name: sum_column, Length: 2248, dtype: object"
            ]
          },
          "metadata": {},
          "execution_count": 76
        }
      ]
    },
    {
      "cell_type": "code",
      "source": [
        "df = df.drop(['Address','Postal_Address'],axis = 1)\n",
        "df.columns"
      ],
      "metadata": {
        "colab": {
          "base_uri": "https://localhost:8080/"
        },
        "id": "3cj2X0F2LaHV",
        "outputId": "2bf5d904-2007-43e0-8d18-d5031f8772df"
      },
      "execution_count": 68,
      "outputs": [
        {
          "output_type": "execute_result",
          "data": {
            "text/plain": [
              "Index(['School_No', 'School_Name', 'School_Type', 'Suburb', 'State',\n",
              "       'Postcode', 'Full_Phone_No', 'LGA_ID', 'LGA_Name', 'Latitude',\n",
              "       'Longtitude', 'Education_Sector', 'Entity_Type', 'sum_column'],\n",
              "      dtype='object')"
            ]
          },
          "metadata": {},
          "execution_count": 68
        }
      ]
    },
    {
      "cell_type": "code",
      "source": [
        "df.columns=['School_No', 'School_Name', 'School_Type', 'Suburb', 'State',\n",
        "       'Postcode', 'Full_Phone_No', 'LGA_ID', 'LGA_Name', 'Latitude',\n",
        "       'Longtitude', 'Education_Sector', 'Entity_Type', 'Address']\n",
        "df.columns"
      ],
      "metadata": {
        "colab": {
          "base_uri": "https://localhost:8080/"
        },
        "id": "_d4GKassLpAI",
        "outputId": "d9e6f7f4-d5ae-496a-a446-5f3ec7e7bd2b"
      },
      "execution_count": 69,
      "outputs": [
        {
          "output_type": "execute_result",
          "data": {
            "text/plain": [
              "Index(['School_No', 'School_Name', 'School_Type', 'Suburb', 'State',\n",
              "       'Postcode', 'Full_Phone_No', 'LGA_ID', 'LGA_Name', 'Latitude',\n",
              "       'Longtitude', 'Education_Sector', 'Entity_Type', 'Address'],\n",
              "      dtype='object')"
            ]
          },
          "metadata": {},
          "execution_count": 69
        }
      ]
    },
    {
      "cell_type": "code",
      "source": [
        "#--- take the means to replace the zero \n",
        "\n",
        "df['Postal_Address_Line_2'] = df['Postal_Address_Line_2'].replace([np.nan], ['-'])"
      ],
      "metadata": {
        "id": "j4skhR_gjzAK"
      },
      "execution_count": 21,
      "outputs": []
    },
    {
      "cell_type": "code",
      "source": [
        "address_list = df['Address'].to_list() \n",
        "latitude = df['Latitude'].to_list()\n",
        "longitude = df['Longitude'].to_list()\n",
        "\n",
        "geolocator = Nominatim(user_agent=\"test\")\n",
        "\n",
        "def reverse_geocoding(lat, lon):\n",
        "    try:\n",
        "        location = geolocator.reverse(f\"{lat}, {lon}\")\n",
        "        return location.raw['display_name']\n",
        "    except:\n",
        "        return None\n",
        "    \n",
        "# Find rows in df with a missing address\n",
        "df_nan = df[df.Address.isnull()]\n",
        "\n",
        "# Reverse geocode the latitude and longitude to get the missing addresses\n",
        "addresses = np.vectorize(reverse_geocoding)(df_nan['Latitude'], df_nan['Longitude'])\n",
        "\n",
        "# Update the Address column in df_nan with the reverse geocoded addresses\n",
        "df_nan['Address'] = addresses\n",
        "\n",
        "# Update df with the modified df_nan\n",
        "df.update(df_nan)\n",
        "\n",
        "df_nan"
      ],
      "metadata": {
        "id": "sdjkWBEEw5T9"
      },
      "execution_count": null,
      "outputs": []
    },
    {
      "cell_type": "code",
      "source": [
        "name_list = df['Name'].to_list() \n",
        "locator = Nominatim(user_agent=\"my-application\", timeout=20)\n",
        "\n",
        "def get_address(name):\n",
        "    \"\"\"Get the address of a location using its name\"\"\"\n",
        "    try:\n",
        "        location = locator.geocode(f\"{name}\")\n",
        "        return location.raw['display_name']\n",
        "    except:\n",
        "        return None\n",
        "        \n",
        "# Find rows in df with a missing address\n",
        "df_nan = df[df.Address.isnull()]\n",
        "\n",
        "# Get the missing addresses\n",
        "addresses = df_nan['Name'].apply(get_address)\n",
        "\n",
        "# Update the Address column in df_nan with the missing addresses\n",
        "df_nan['Address'] = addresses\n",
        "\n",
        "# Update df with the modified df_nan\n",
        "df.update(df_nan)\n",
        "\n",
        "df_nan\n"
      ],
      "metadata": {
        "id": "ZCyFWPkw-gAb"
      },
      "execution_count": null,
      "outputs": []
    },
    {
      "cell_type": "code",
      "source": [
        "df.isnull().sum()"
      ],
      "metadata": {
        "colab": {
          "base_uri": "https://localhost:8080/"
        },
        "id": "SScO6i6I0vBu",
        "outputId": "f7e35cd4-c761-4f65-aee7-ba6082c280ad"
      },
      "execution_count": 80,
      "outputs": [
        {
          "output_type": "execute_result",
          "data": {
            "text/plain": [
              "School_No           0\n",
              "School_Name         0\n",
              "School_Type         0\n",
              "Address_Town        0\n",
              "Address_State       0\n",
              "Address_Postcode    0\n",
              "Full_Phone_No       2\n",
              "LGA_ID              0\n",
              "LGA_Name            0\n",
              "Latitude            0\n",
              "Longtitude          0\n",
              "Education_Sector    0\n",
              "Entity_Type         0\n",
              "Address             0\n",
              "dtype: int64"
            ]
          },
          "metadata": {},
          "execution_count": 80
        }
      ]
    },
    {
      "cell_type": "code",
      "source": [
        "# Replace NaN with zero on all columns \n",
        "df = df.fillna(0)"
      ],
      "metadata": {
        "id": "ByPglo1Y0UZT"
      },
      "execution_count": null,
      "outputs": []
    },
    {
      "cell_type": "code",
      "source": [
        "from google.colab import files\n",
        "df.to_csv('Victoria.csv') \n",
        "files.download('Victoria.csv')"
      ],
      "metadata": {
        "colab": {
          "base_uri": "https://localhost:8080/",
          "height": 17
        },
        "id": "AFZ4LhjY9Skb",
        "outputId": "990e3260-1dfd-4274-8030-dc5a2ead0441"
      },
      "execution_count": 81,
      "outputs": [
        {
          "output_type": "display_data",
          "data": {
            "text/plain": [
              "<IPython.core.display.Javascript object>"
            ],
            "application/javascript": [
              "\n",
              "    async function download(id, filename, size) {\n",
              "      if (!google.colab.kernel.accessAllowed) {\n",
              "        return;\n",
              "      }\n",
              "      const div = document.createElement('div');\n",
              "      const label = document.createElement('label');\n",
              "      label.textContent = `Downloading \"${filename}\": `;\n",
              "      div.appendChild(label);\n",
              "      const progress = document.createElement('progress');\n",
              "      progress.max = size;\n",
              "      div.appendChild(progress);\n",
              "      document.body.appendChild(div);\n",
              "\n",
              "      const buffers = [];\n",
              "      let downloaded = 0;\n",
              "\n",
              "      const channel = await google.colab.kernel.comms.open(id);\n",
              "      // Send a message to notify the kernel that we're ready.\n",
              "      channel.send({})\n",
              "\n",
              "      for await (const message of channel.messages) {\n",
              "        // Send a message to notify the kernel that we're ready.\n",
              "        channel.send({})\n",
              "        if (message.buffers) {\n",
              "          for (const buffer of message.buffers) {\n",
              "            buffers.push(buffer);\n",
              "            downloaded += buffer.byteLength;\n",
              "            progress.value = downloaded;\n",
              "          }\n",
              "        }\n",
              "      }\n",
              "      const blob = new Blob(buffers, {type: 'application/binary'});\n",
              "      const a = document.createElement('a');\n",
              "      a.href = window.URL.createObjectURL(blob);\n",
              "      a.download = filename;\n",
              "      div.appendChild(a);\n",
              "      a.click();\n",
              "      div.remove();\n",
              "    }\n",
              "  "
            ]
          },
          "metadata": {}
        },
        {
          "output_type": "display_data",
          "data": {
            "text/plain": [
              "<IPython.core.display.Javascript object>"
            ],
            "application/javascript": [
              "download(\"download_77d5b411-f534-4157-80fc-da3789ed39b2\", \"Victoria.csv\", 347814)"
            ]
          },
          "metadata": {}
        }
      ]
    }
  ]
}